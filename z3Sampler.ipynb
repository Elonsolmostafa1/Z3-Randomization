{
 "cells": [
  {
   "cell_type": "code",
   "execution_count": 16,
   "metadata": {},
   "outputs": [],
   "source": [
    "#imports\n",
    "from z3 import *\n"
   ]
  },
  {
   "cell_type": "code",
   "execution_count": 60,
   "metadata": {},
   "outputs": [
    {
     "name": "stdout",
     "output_type": "stream",
     "text": [
      "sat\n",
      "[x = 11]\n"
     ]
    }
   ],
   "source": [
    "x = Int('x')\n",
    "y = Int('y')\n",
    "s = Solver()\n",
    "s.add(x > 10)\n",
    "print(s.check())\n",
    "print(s.model())"
   ]
  },
  {
   "cell_type": "code",
   "execution_count": 182,
   "metadata": {},
   "outputs": [
    {
     "name": "stdout",
     "output_type": "stream",
     "text": [
      "11\n",
      "159\n",
      "157\n",
      "155\n",
      "153\n",
      "151\n",
      "13\n",
      "15\n",
      "17\n",
      "19\n",
      "21\n",
      "23\n",
      "25\n",
      "149\n",
      "147\n",
      "145\n",
      "27\n",
      "143\n",
      "141\n",
      "139\n",
      "137\n",
      "29\n",
      "31\n",
      "33\n",
      "135\n",
      "133\n",
      "131\n",
      "129\n",
      "127\n",
      "125\n",
      "123\n",
      "121\n",
      "35\n",
      "37\n",
      "119\n",
      "39\n",
      "117\n",
      "115\n",
      "41\n",
      "43\n",
      "45\n",
      "47\n",
      "49\n",
      "51\n",
      "113\n",
      "53\n",
      "55\n",
      "111\n",
      "57\n",
      "59\n",
      "61\n",
      "63\n",
      "65\n",
      "67\n",
      "69\n",
      "71\n",
      "109\n",
      "73\n",
      "107\n",
      "75\n",
      "105\n",
      "77\n",
      "79\n",
      "81\n",
      "83\n",
      "85\n",
      "87\n",
      "103\n",
      "101\n",
      "99\n",
      "89\n",
      "97\n",
      "91\n",
      "93\n",
      "95\n"
     ]
    }
   ],
   "source": [
    "#naive algorithm\n",
    "x = Int('x')\n",
    "s = Solver()\n",
    "s.add(x > 10, (x%2 == 1), x < 160)\n",
    "hash_sol = 0\n",
    "for i in range (1000):\n",
    "    if s.check() == unsat :\n",
    "        break\n",
    "    s.model()\n",
    "    sol =s.model()[x]\n",
    "    print(sol)\n",
    "    s.add(x != sol)\n",
    "    \n",
    "    # hash_sol = randomHashFunction(sol)\n",
    "    # print(s.check())\n",
    "    # print(s.model())"
   ]
  },
  {
   "cell_type": "code",
   "execution_count": 173,
   "metadata": {},
   "outputs": [],
   "source": [
    "#generate a random hash function\n",
    "def randomHashFunction(x, its_solution):\n",
    "    #generate a random hash function\n",
    "    p = 5\n",
    "    a = 7\n",
    "    b = 300\n",
    "    result = (a * x + b) % p\n",
    "    if its_solution:\n",
    "        x = IntNumRef.as_long(x)\n",
    "        result = (a * x + b) % p\n",
    "    # print('sol= ', x, 'hash= ', result)\n",
    "    return  result"
   ]
  },
  {
   "cell_type": "code",
   "execution_count": 170,
   "metadata": {},
   "outputs": [],
   "source": [
    "def hashFunction(x, solution):\n",
    "    return (randomHashFunction(x, False) != randomHashFunction(solution, True))"
   ]
  },
  {
   "cell_type": "code",
   "execution_count": 180,
   "metadata": {},
   "outputs": [
    {
     "name": "stdout",
     "output_type": "stream",
     "text": [
      "output solution =  11           new hashed constraint =  (7*x - 300)%5 != 2\n",
      "output solution =  15           new hashed constraint =  (7*x - 300)%5 != 0\n",
      "output solution =  19           new hashed constraint =  (7*x - 300)%5 != 3\n",
      "output solution =  13           new hashed constraint =  (7*x - 300)%5 != 1\n",
      "output solution =  157           new hashed constraint =  (7*x - 300)%5 != 4\n"
     ]
    }
   ],
   "source": [
    "#hash algorithm\n",
    "x = Int('x')\n",
    "s = Solver()\n",
    "s.add(x > 10, (x%2 == 1), x < 160)\n",
    "hash_sol = 0\n",
    "for i in range (10):\n",
    "    if s.check() == unsat :\n",
    "        break\n",
    "    s.model()\n",
    "    sol =s.model()[x]\n",
    "    hash_sol = hashFunction(x, sol)\n",
    "    s.add(hash_sol)\n",
    "    print('output solution = ', sol, '          new hashed constraint = ', hash_sol)"
   ]
  },
  {
   "cell_type": "code",
   "execution_count": null,
   "metadata": {},
   "outputs": [],
   "source": []
  }
 ],
 "metadata": {
  "kernelspec": {
   "display_name": "base",
   "language": "python",
   "name": "python3"
  },
  "language_info": {
   "codemirror_mode": {
    "name": "ipython",
    "version": 3
   },
   "file_extension": ".py",
   "mimetype": "text/x-python",
   "name": "python",
   "nbconvert_exporter": "python",
   "pygments_lexer": "ipython3",
   "version": "3.9.7"
  },
  "orig_nbformat": 4,
  "vscode": {
   "interpreter": {
    "hash": "ad2bdc8ecc057115af97d19610ffacc2b4e99fae6737bb82f5d7fb13d2f2c186"
   }
  }
 },
 "nbformat": 4,
 "nbformat_minor": 2
}
